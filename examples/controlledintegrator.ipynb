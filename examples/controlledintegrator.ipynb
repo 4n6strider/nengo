{
 "metadata": {
  "name": ""
 },
 "nbformat": 3,
 "nbformat_minor": 0,
 "worksheets": [
  {
   "cells": [
    {
     "cell_type": "markdown",
     "metadata": {},
     "source": [
      "# Nengo Example: Controlled Integrator\n",
      "\n",
      "A controlled integrator is a circuit that acts on two signals:\n",
      "\n",
      "1. Input - the signal being integrated\n",
      "2. Control - the control signal to the integrator\n",
      "\n",
      "A controlled integrator accumulates input, but its state can be directly manipulated by the control signal.\n",
      "We can write the dynamics of a simple controlled integrator like this:\n",
      "\n",
      "$$\n",
      "\\dot{a}(t) = \\mathrm{control}(t) \\cdot a(t) + B \\cdot \\mathrm{input}(t)\n",
      "$$\n",
      "\n",
      "In this notebook, we will build a controlled intgrator with Leaky Integrate and Fire ([LIF](TODO)) neurons.\n",
      "The Neural Engineering Framework ([NEF](TODO)) equivalent equation for this integrator is:\n",
      "\n",
      "$$\n",
      "\\dot{a}(t) = \\mathrm{control}(t) \\cdot a(t) + \\tau \\cdot \\mathrm{input}(t).\n",
      "$$\n",
      "\n",
      "We call the coefficient $\\tau$ here a *recurrent time constant* because it governs the rate of integration.\n",
      "\n",
      "Network behaviour:\n",
      "`A = tau * Input + Input * Control`\n",
      "\n",
      "(MISSING: Network circuit diagram - can maybe generate this in-line?)\n"
     ]
    },
    {
     "cell_type": "code",
     "collapsed": false,
     "input": [
      "### do some setup before we start\n",
      "%matplotlib inline\n",
      "import matplotlib.pyplot as plt\n",
      "import numpy as np"
     ],
     "language": "python",
     "metadata": {},
     "outputs": [],
     "prompt_number": 1
    },
    {
     "cell_type": "markdown",
     "metadata": {},
     "source": [
      "## Step 1: Create the network\n",
      "\n",
      "We can use standard network-creation commands to begin creating our controlled integrator.\n",
      "We create a Network, and then we create a population of neurons (called an *ensemble*).\n",
      "This population of neurons will represent the state of our integrator, and the connections between the neurons in the ensemble will define the dynamics of our integrator."
     ]
    },
    {
     "cell_type": "code",
     "collapsed": false,
     "input": [
      "import nengo\n",
      "\n",
      "model = nengo.Model('Controlled Integrator')\n",
      "\n",
      "# Make a population with 225 LIF neurons\n",
      "# representing a 2 dimensional signal,\n",
      "# with a larger radius to accommodate large inputs\n",
      "A = model.make_ensemble('A', nengo.LIF(225), 2, radius=1.5)"
     ],
     "language": "python",
     "metadata": {},
     "outputs": [],
     "prompt_number": 2
    },
    {
     "cell_type": "markdown",
     "metadata": {},
     "source": [
      "## Step 2: Define the 'input' signal to integrate\n",
      "\n",
      "We will be running 1 second of simulation time, so we will use a Python function `input_func` to define our input signal for real values of time `t` from 0 to 1. We'll define our signal to be a step function using if-then-else code. Our piece-wise function sits at 0 until .2 seconds into the simulation, then jumps up to 5, back to 0, down to -10, back to 0, then up to 5, and then back to 0. Our integrator will respond by ramping up when the input is positive, and descending when the input is negative."
     ]
    },
    {
     "cell_type": "code",
     "collapsed": false,
     "input": [
      "def input_func(t):                              # Create a function that outputs\n",
      "    if   t < 0.2:  return 0                     # 0 for t < 0.2\n",
      "    elif t < 0.3:  return 5                     # 5 for 0.2 < t < 0.3\n",
      "    elif t < 0.44: return 0                     # 0 for 0.3 < t < 0.44\n",
      "    elif t < 0.54: return -10                   # -10 for 0.44 < t < 0.54\n",
      "    elif t < 0.8:  return 0                     # 0 for 0.54 < t < 0.8\n",
      "    elif t < 0.9:  return 5                     # 5 for 0.8 < t < 0.9\n",
      "    else:          return 0                     # 0 for t > 0.9\n",
      "    \n",
      "t = np.linspace(0, 1, 101)\n",
      "plt.plot(t, map(input_func, t))"
     ],
     "language": "python",
     "metadata": {},
     "outputs": [],
     "prompt_number": 3
    },
    {
     "cell_type": "markdown",
     "metadata": {},
     "source": [
      "We include this input function (`input_func`) into our neural model like this:"
     ]
    },
    {
     "cell_type": "code",
     "collapsed": false,
     "input": [
      "# Define an input signal within our model\n",
      "model.make_node('Input', output=input_func)\n",
      " \n",
      "# Connect the Input signal to ensemble A.\n",
      "# The `transform` argument means \"connect real-valued signal \"Input\" to the\n",
      "# first of the two input channels of A.\"\n",
      "tau = 0.1\n",
      "model.connect('Input', 'A',\n",
      "              transform=[[tau], [0]],\n",
      "              filter=tau)"
     ],
     "language": "python",
     "metadata": {},
     "outputs": [],
     "prompt_number": 4
    },
    {
     "cell_type": "markdown",
     "metadata": {},
     "source": [
      "## Step 3: Define the 'control' signal\n",
      "\n",
      "TODO: make a more interesting control signal, which motivates why someone might want to build a controlled integrator."
     ]
    },
    {
     "cell_type": "code",
     "collapsed": false,
     "input": [
      "# -- create a Control signal that's just a constant over time\n",
      "model.make_node('Control', output=[1.0])\n",
      "\n",
      "# -- Connect the \"Control\" signal to the second of A's two input channels\n",
      "#    using the `transform` matrix.\n",
      "model.connect('Control', 'A',\n",
      "              transform=[[0], [1]],\n",
      "              filter=tau)"
     ],
     "language": "python",
     "metadata": {},
     "outputs": [],
     "prompt_number": 5
    },
    {
     "cell_type": "markdown",
     "metadata": {},
     "source": [
      "## Step 4: Define the integrator dynamics\n",
      "\n",
      "We set up integrator by connecting population 'A' to itself.\n",
      "We set up feedback in the model to handle integration of the input.\n",
      "The time constant $\\tau$ on the recurrent weights affects both the rate and accuracy of integration. Try adjusting it and see what happens!"
     ]
    },
    {
     "cell_type": "code",
     "collapsed": false,
     "input": [
      "# Create a recurrent connection that first takes the product\n",
      "# of both dimensions in A (i.e., the value times the control)\n",
      "# and then adds this back into the first dimension of A using\n",
      "# a transform\n",
      "model.connect('A', 'A',\n",
      "              function=lambda x: x[0] * x[1],  # -- function is applied first to A\n",
      "              transform=[[1], [0]],            # -- transform converts function output to new state inputs\n",
      "              filter=tau)\n",
      "\n",
      "# Record both dimensions of A\n",
      "model.probe('A', sample_every=0.02, filter=0.02)\n",
      " \n",
      "# Run the model for 1 second\n",
      "model.run(1)\n",
      "\n",
      "# Plot the value and control signals\n",
      "t = np.linspace(0, model.data[model.simtime][-1], model.data['A'].shape[0])\n",
      "plt.plot(t, model.data['A'][:,0], label='value')\n",
      "plt.plot(t, model.data['A'][:,1], label='control')\n",
      "plt.legend(['value', 'control'], loc=3)"
     ],
     "language": "python",
     "metadata": {},
     "outputs": [],
     "prompt_number": 6
    },
    {
     "cell_type": "code",
     "collapsed": false,
     "input": [
      "t.shape"
     ],
     "language": "python",
     "metadata": {},
     "outputs": [],
     "prompt_number": 7
    }
   ],
   "metadata": {}
  }
 ]
}