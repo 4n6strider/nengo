{
 "metadata": {
  "name": ""
 },
 "nbformat": 3,
 "nbformat_minor": 0,
 "worksheets": [
  {
   "cells": [
    {
     "cell_type": "markdown",
     "metadata": {},
     "source": [
      "# Nengo Example: Multiplication"
     ]
    },
    {
     "cell_type": "markdown",
     "metadata": {},
     "source": [
      "This example will show you how to multiply two values. The model architecture can be thought of as a combination of the combining demo and the squaring demo. Essentially, we project both inputs independently into a 2D space, and then decode a nonlinear transformation of that space (the product of the first and second vector elements)."
     ]
    },
    {
     "cell_type": "markdown",
     "metadata": {},
     "source": [
      "## Step 1: Create the model"
     ]
    },
    {
     "cell_type": "markdown",
     "metadata": {},
     "source": [
      "The model has four ensembles: two input ensembles ('A' and 'B'), a 2D combined ensemble ('Combined'), and an output ensemble ('D')."
     ]
    },
    {
     "cell_type": "code",
     "collapsed": false,
     "input": [
      "# Create the model object\n",
      "import nengo\n",
      "model = nengo.Model('Multiplication')\n",
      "\n",
      "# Create 4 ensembles of leaky integrate-and-fire neurons\n",
      "model.make_ensemble('A', nengo.LIF(100), dimensions=1, radius=5)\n",
      "model.make_ensemble('B', nengo.LIF(100), dimensions=1, radius=5)\n",
      "model.make_ensemble('Combined', nengo.LIF(224), dimensions=2, radius=10)\n",
      "model.make_ensemble('D', nengo.LIF(100), dimensions=1, radius=10)\n",
      "\n",
      "# Note the number of neurons is assumed to be divisible by 4\n",
      "#model.get('Combined').encoders=np.tile([[1,1],[-1,1],[1,-1],[-1,-1]],(model.get('Combined').n_neurons/4,1)) "
     ],
     "language": "python",
     "metadata": {},
     "outputs": [],
     "prompt_number": 60
    },
    {
     "cell_type": "markdown",
     "metadata": {},
     "source": [
      "##Step 2: Provide input to the model"
     ]
    },
    {
     "cell_type": "markdown",
     "metadata": {},
     "source": [
      "We will use two constant scalar values for the two input signals that drive activity in ensembles A and B."
     ]
    },
    {
     "cell_type": "code",
     "collapsed": false,
     "input": [
      "import nengo.helpers\n",
      "\n",
      "# Create a piecewise step function for input\n",
      "model.make_node('Input A', nengo.helpers.piecewise({0:0, 2.5:3, 4:-3}))\n",
      "model.make_node('Input B', nengo.helpers.piecewise({0:5, 1.5:2, 3:0, 4.5:2}))\n",
      "\n",
      "correct_ans = nengo.helpers.piecewise({0:0, 1.5:0, 2.5:6, 3:0, 4:0, 4.5:-6})"
     ],
     "language": "python",
     "metadata": {},
     "outputs": [],
     "prompt_number": 61
    },
    {
     "cell_type": "markdown",
     "metadata": {},
     "source": [
      "## Step 3: Connect the elements of the model"
     ]
    },
    {
     "cell_type": "code",
     "collapsed": false,
     "input": [
      "# Connect the input nodes to the appropriate ensembles\n",
      "model.connect('Input A', 'A')\n",
      "model.connect('Input B', 'B')\n",
      "\n",
      "# Connect input ensembles A and B to the 2D combined ensemble\n",
      "model.connect('A','Combined', transform=[[1], [0]])\n",
      "model.connect('B','Combined', transform=[[0], [1]])\n",
      "\n",
      "# Define a function that computes the multiplication of two inputs\n",
      "def product(x):\n",
      "    return x[0]*x[1]\n",
      "\n",
      "# Connect the combined ensemble to the output ensemble D\n",
      "model.connect('Combined', 'D', function=product)"
     ],
     "language": "python",
     "metadata": {},
     "outputs": [],
     "prompt_number": 62
    },
    {
     "cell_type": "markdown",
     "metadata": {},
     "source": [
      "##Step 3: Probe the Output"
     ]
    },
    {
     "cell_type": "markdown",
     "metadata": {},
     "source": [
      "Let's collect output data from each ensemble and input."
     ]
    },
    {
     "cell_type": "code",
     "collapsed": false,
     "input": [
      "model.probe('Input A')\n",
      "model.probe('Input B')\n",
      "model.probe('A', filter=0.01)\n",
      "model.probe('B', filter=0.01)\n",
      "model.probe('Combined', filter=0.01)\n",
      "model.probe('D', filter=0.01)"
     ],
     "language": "python",
     "metadata": {},
     "outputs": [],
     "prompt_number": 63
    },
    {
     "cell_type": "markdown",
     "metadata": {},
     "source": [
      "## Step 4: Run the Model"
     ]
    },
    {
     "cell_type": "markdown",
     "metadata": {},
     "source": [
      "In order to run the model, we have to create a simulator. Then, we can run that simulator over and over again without affecting the original model."
     ]
    },
    {
     "cell_type": "code",
     "collapsed": false,
     "input": [
      "# Create the simulator\n",
      "sim = model.simulator()\n",
      "# Run it for 5 seconds\n",
      "sim.run(5)"
     ],
     "language": "python",
     "metadata": {},
     "outputs": [],
     "prompt_number": 64
    },
    {
     "cell_type": "markdown",
     "metadata": {},
     "source": [
      "To check the performance of the model, we can plot the input signals and decoded ensemble values. "
     ]
    },
    {
     "cell_type": "code",
     "collapsed": false,
     "input": [
      "%matplotlib inline\n",
      "import matplotlib.pyplot as plt\n",
      "\n",
      "# Plot the input signals and decoded ensemble values\n",
      "t = sim.data(model.t)\n",
      "plt.plot(t, sim.data('A'), label=\"Decoded A\")\n",
      "plt.plot(t, sim.data('B'), label=\"Decoded B\")\n",
      "plt.plot(t, sim.data('D'), label=\"Decoded D\")\n",
      "plt.plot(t, sim.data('Input A'), label=\"Input A\", color='k', linewidth=2.0)\n",
      "plt.plot(t, sim.data('Input B'), label=\"Input B\", color='0.75', linewidth=2.0)\n",
      "#plt.plot(t, correct_ans(t))\n",
      "plt.legend()\n",
      "plt.ylim(-10, 10);"
     ],
     "language": "python",
     "metadata": {},
     "outputs": [],
     "prompt_number": 66
    },
    {
     "cell_type": "markdown",
     "metadata": {},
     "source": [
      "The decoded output value should be a good estimate of the product of the two input values. "
     ]
    }
   ],
   "metadata": {}
  }
 ]
}