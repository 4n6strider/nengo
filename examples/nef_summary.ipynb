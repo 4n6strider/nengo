{
 "metadata": {
  "name": ""
 },
 "nbformat": 3,
 "nbformat_minor": 0,
 "worksheets": [
  {
   "cells": [
    {
     "cell_type": "code",
     "collapsed": false,
     "input": [
      "import numpy as np\n",
      "import matplotlib.pyplot as plt\n",
      "import nengo\n",
      "import nengo.objects\n",
      "plt.rc('axes', color_cycle=\"377EB8, E41A1C, 4DAF4A, 984EA3, FF7F00, 222222, A65628, E7298A\")\n",
      "\n",
      "def aligned(n_neurons, radius=0.9):\n",
      "    intercepts = np.linspace(-radius, radius, n_neurons)\n",
      "    encoders = np.tile([[1],[-1]], (n_neurons/2,1))\n",
      "    intercepts *= encoders[:,0]\n",
      "    return intercepts, encoders"
     ],
     "language": "python",
     "metadata": {},
     "outputs": [],
     "prompt_number": 1
    },
    {
     "cell_type": "markdown",
     "metadata": {},
     "source": [
      "# Principle 1: Representation\n",
      "\n",
      "## Encoding\n",
      "\n",
      "Neural populations represent time-varying signals. A signal is a vector of real numbers of arbitrary length."
     ]
    },
    {
     "cell_type": "code",
     "collapsed": false,
     "input": [
      "model = nengo.Model(\"NEF summary\")\n",
      "model.make_node(\"Input signal\", output=lambda t: t * 2 - 1)\n",
      "model.probe(\"Input signal\")"
     ],
     "language": "python",
     "metadata": {},
     "outputs": [],
     "prompt_number": 2
    },
    {
     "cell_type": "code",
     "collapsed": false,
     "input": [
      "sim = model.simulator()\n",
      "sim.run(1.0)\n",
      "\n",
      "plt.plot(sim.data(model.t), sim.data(\"Input signal\"), lw=2)\n",
      "plt.title(\"Input signal\")\n",
      "plt.xlabel(\"Time (s)\")\n",
      "plt.xlim(0, 1);"
     ],
     "language": "python",
     "metadata": {},
     "outputs": [],
     "prompt_number": 3
    },
    {
     "cell_type": "markdown",
     "metadata": {},
     "source": [
      "These signals drive neural populations based on each neuron's *tuning curve* (which is similar to the I-F curve, if you're familiar with that).\n",
      "\n",
      "This curve describes how much a particular neuron will fire as a function of the input signal."
     ]
    },
    {
     "cell_type": "code",
     "collapsed": false,
     "input": [
      "intercepts, encoders = aligned(8)\n",
      "model.make_ensemble(\"A\", nengo.LIF(8), 1, intercepts=intercepts,\n",
      "                    max_rates=nengo.objects.Uniform(80, 100), encoders=encoders)"
     ],
     "language": "python",
     "metadata": {},
     "outputs": [],
     "prompt_number": 4
    },
    {
     "cell_type": "code",
     "collapsed": false,
     "input": [
      "sim = model.simulator()\n",
      "\n",
      "A = sim.model.get(\"A\")\n",
      "A.eval_points.sort(axis=0)\n",
      "J = np.dot(A.eval_points, A.encoders.T)\n",
      "activities = A.neurons.rates(J)\n",
      "\n",
      "plt.plot(A.eval_points, activities, lw=2)\n",
      "plt.xlabel(\"Input signal\")\n",
      "plt.ylabel(\"Firing rate (Hz)\");"
     ],
     "language": "python",
     "metadata": {},
     "outputs": [],
     "prompt_number": 5
    },
    {
     "cell_type": "markdown",
     "metadata": {},
     "source": [
      "We can drive these neurons with our input signal and observe their spiking activity."
     ]
    },
    {
     "cell_type": "code",
     "collapsed": false,
     "input": [
      "model.connect(\"Input signal\", \"A\")\n",
      "model.probe(\"A.spikes\")"
     ],
     "language": "python",
     "metadata": {},
     "outputs": [],
     "prompt_number": 6
    },
    {
     "cell_type": "code",
     "collapsed": false,
     "input": [
      "sim = model.simulator()\n",
      "sim.run(1)\n",
      "\n",
      "t = sim.data(model.t)\n",
      "spikes = [t[sim.data(\"A.spikes\")[:,i] > 0].flatten() for i in xrange(model.get(\"A\").n_neurons)]\n",
      "\n",
      "ax = plt.subplot(1,1,1)\n",
      "color_cycle = ax._get_lines.color_cycle\n",
      "colors = [next(color_cycle) for _ in xrange(model.get(\"A\").n_neurons)]\n",
      "ax.set_xlim(0, 1)\n",
      "ax.set_ylim(7.5, -0.5)\n",
      "ax.set_ylabel('Neuron')\n",
      "ax.set_xlabel('Time (s)')\n",
      "ax.eventplot(spikes, colors=colors);"
     ],
     "language": "python",
     "metadata": {},
     "outputs": [],
     "prompt_number": 7
    },
    {
     "cell_type": "markdown",
     "metadata": {},
     "source": [
      "## Decoding\n",
      "\n",
      "We can estimate the input signal originally encoded. To do this, we first filter the spike train with a temporal filter."
     ]
    },
    {
     "cell_type": "code",
     "collapsed": false,
     "input": [
      "# Hack to remove probe, should make it possible to probe again\n",
      "model.get(\"A\").probes['spikes'] = []\n",
      "del model.get(\"A\").connections_out[0]\n",
      "del model.probed[\"A.spikes\"]\n",
      "# End hack\n",
      "model.probe(\"A.spikes\", filter=0.01)"
     ],
     "language": "python",
     "metadata": {},
     "outputs": [],
     "prompt_number": 8
    },
    {
     "cell_type": "code",
     "collapsed": false,
     "input": [
      "sim = model.simulator()\n",
      "sim.run(1)\n",
      "\n",
      "scale = 0.2\n",
      "for i in xrange(model.get(\"A\").n_neurons):\n",
      "    plt.plot(sim.data(model.t), sim.data(\"A.spikes\")[:,i] - i*scale)\n",
      "plt.xlim(0, 1)\n",
      "plt.ylim(scale * (-model.get(\"A\").n_neurons+1), scale)\n",
      "plt.ylabel(\"Neuron\")\n",
      "plt.yticks(np.arange(scale/1.8, (-model.get(\"A\").n_neurons+1) * scale, -scale), np.arange(model.get(\"A\").n_neurons));"
     ],
     "language": "python",
     "metadata": {},
     "outputs": [],
     "prompt_number": 9
    },
    {
     "cell_type": "markdown",
     "metadata": {},
     "source": [
      "Then we mulitply those filtered spike trains with decoding weights and sum them together.\n",
      "\n",
      "The decoding weights are determined by minimizing the squared difference between the decoded estimate and the actual input signal."
     ]
    },
    {
     "cell_type": "code",
     "collapsed": false,
     "input": [
      "model.probe(\"A\", filter=0.01)"
     ],
     "language": "python",
     "metadata": {},
     "outputs": [],
     "prompt_number": 10
    },
    {
     "cell_type": "code",
     "collapsed": false,
     "input": [
      "sim = model.simulator()\n",
      "sim.run(1)\n",
      "\n",
      "plt.plot(sim.data(model.t), sim.data(\"Input signal\"), label=\"Input signal\")\n",
      "plt.plot(sim.data(model.t), sim.data(\"A\"), label=\"Decoded estimate\")\n",
      "plt.legend(loc=\"best\")\n",
      "plt.xlim(0, 1);"
     ],
     "language": "python",
     "metadata": {},
     "outputs": [],
     "prompt_number": 11
    },
    {
     "cell_type": "markdown",
     "metadata": {},
     "source": [
      "The accuracy of the decoded estimate increases as the number of neurons increases."
     ]
    },
    {
     "cell_type": "code",
     "collapsed": false,
     "input": [
      "model = nengo.Model(\"NEF summary\")\n",
      "model.make_node(\"Input signal\", output=lambda t: t * 2 - 1)\n",
      "model.probe(\"Input signal\")\n",
      "intercepts, encoders = aligned(30, 0.95)\n",
      "model.make_ensemble(\"A\", nengo.LIF(30), 1, intercepts=intercepts,\n",
      "                    max_rates=nengo.objects.Uniform(80, 100), encoders=encoders)\n",
      "model.connect(\"Input signal\", \"A\")\n",
      "model.probe(\"A.spikes\")\n",
      "model.probe(\"A\", filter=0.01)"
     ],
     "language": "python",
     "metadata": {},
     "outputs": [],
     "prompt_number": 12
    },
    {
     "cell_type": "code",
     "collapsed": false,
     "input": [
      "sim = model.simulator()\n",
      "sim.run(1)\n",
      "\n",
      "plt.figure(figsize=(15,3.5))\n",
      "\n",
      "plt.subplot(1,3,1)\n",
      "A = sim.model.get(\"A\")\n",
      "A.eval_points.sort(axis=0)\n",
      "J = np.dot(A.eval_points, A.encoders.T)\n",
      "activities = A.neurons.rates(J)\n",
      "plt.plot(A.eval_points, activities, lw=2)\n",
      "plt.xlabel(\"Input signal\")\n",
      "plt.ylabel(\"Firing rate (Hz)\");\n",
      "\n",
      "ax = plt.subplot(1,3,2)\n",
      "t = sim.data(model.t)\n",
      "spikes = [t[sim.data(\"A.spikes\")[:,i] > 0].flatten() for i in xrange(model.get(\"A\").n_neurons)]\n",
      "color_cycle = ax._get_lines.color_cycle\n",
      "colors = [next(color_cycle) for _ in xrange(model.get(\"A\").n_neurons)]\n",
      "plt.axis([0, 1, model.get(\"A\").n_neurons-0.5, -0.5])\n",
      "plt.eventplot(spikes, colors=colors)\n",
      "plt.xlabel(\"Time (s)\")\n",
      "plt.ylabel(\"Neuron\")\n",
      "\n",
      "plt.subplot(1,3,3)\n",
      "plt.plot(sim.data(model.t), sim.data(\"Input signal\"), label=\"Input signal\")\n",
      "plt.plot(sim.data(model.t), sim.data(\"A\"), label=\"Decoded esimate\")\n",
      "plt.legend(loc=\"best\")\n",
      "plt.xlabel(\"Time (s)\")\n",
      "plt.xlim(0, 1);"
     ],
     "language": "python",
     "metadata": {},
     "outputs": [],
     "prompt_number": 13
    },
    {
     "cell_type": "markdown",
     "metadata": {},
     "source": [
      "Any smooth signal can be encoded and decoded."
     ]
    },
    {
     "cell_type": "code",
     "collapsed": false,
     "input": [
      "from nengo.helpers import white_noise\n",
      "from nengo.objects import Uniform\n",
      "model = nengo.Model(\"NEF summary\")\n",
      "model.make_node(\"Input signal\", output=white_noise(1, 5, seed=60))\n",
      "model.probe(\"Input signal\")\n",
      "intercepts, encoders = aligned(30, 0.8)\n",
      "model.make_ensemble(\"A\", nengo.LIF(30), 1, intercepts=intercepts,\n",
      "                    max_rates=nengo.objects.Uniform(80, 100), encoders=encoders)\n",
      "model.connect(\"Input signal\", \"A\")\n",
      "model.probe(\"A.spikes\")\n",
      "model.probe(\"A\", filter=0.01)"
     ],
     "language": "python",
     "metadata": {},
     "outputs": [],
     "prompt_number": 14
    },
    {
     "cell_type": "code",
     "collapsed": false,
     "input": [
      "sim = model.simulator()\n",
      "sim.run(1)\n",
      "\n",
      "plt.figure(figsize=(10,3.5))\n",
      "plt.subplot(1,2,1)\n",
      "plt.plot(sim.data(model.t), sim.data(\"Input signal\"), label=\"Input signal\")\n",
      "plt.plot(sim.data(model.t), sim.data(\"A\"), label=\"Decoded esimate\")\n",
      "plt.legend(loc=\"best\")\n",
      "plt.xlabel(\"Time (s)\")\n",
      "plt.xlim(0, 1)\n",
      "\n",
      "t = sim.data(model.t)\n",
      "spikes = [t[sim.data(\"A.spikes\")[:,i] > 0].flatten() for i in xrange(model.get(\"A\").n_neurons)]\n",
      "ax = plt.subplot(1,2,2)\n",
      "color_cycle = ax._get_lines.color_cycle\n",
      "colors = [next(color_cycle) for _ in xrange(model.get(\"A\").n_neurons)]\n",
      "plt.axis([0, 1, model.get(\"A\").n_neurons-0.5, -0.5])\n",
      "plt.eventplot(spikes, colors=colors)\n",
      "plt.xlabel(\"Time (s)\")\n",
      "plt.ylabel(\"Neuron\");"
     ],
     "language": "python",
     "metadata": {},
     "outputs": [],
     "prompt_number": 15
    },
    {
     "cell_type": "markdown",
     "metadata": {},
     "source": [
      "In fact, we can decode arbitrary transformations of the input signal, not just the signal itself.\n",
      "\n",
      "Let's decode the square of our white noise input."
     ]
    },
    {
     "cell_type": "code",
     "collapsed": false,
     "input": [
      "from nengo.helpers import white_noise\n",
      "from nengo.objects import Uniform\n",
      "\n",
      "model = nengo.Model(\"NEF summary\")\n",
      "model.make_node(\"Input signal\", output=white_noise(1, 5, seed=60))\n",
      "model.probe(\"Input signal\")\n",
      "intercepts, encoders = aligned(30)\n",
      "model.make_ensemble(\"A\", nengo.LIF(30), 1, intercepts=intercepts,\n",
      "                    max_rates=nengo.objects.Uniform(80, 100), encoders=encoders)\n",
      "model.connect(\"Input signal\", \"A\")\n",
      "model.probe(\"A.spikes\")\n",
      "model.probe(\"A\", filter=0.01)\n",
      "model.get(\"A\").connections_out[1].function = np.square"
     ],
     "language": "python",
     "metadata": {},
     "outputs": [],
     "prompt_number": 16
    },
    {
     "cell_type": "code",
     "collapsed": false,
     "input": [
      "sim = model.simulator()\n",
      "sim.run(1)\n",
      "\n",
      "plt.figure(figsize=(10,3.5))\n",
      "plt.subplot(1,2,1)\n",
      "plt.plot(sim.data(model.t), sim.data(\"Input signal\"), label=\"Input signal\")\n",
      "plt.plot(sim.data(model.t), sim.data(\"A\"), label=\"Decoded esimate\")\n",
      "plt.plot(sim.data(model.t), np.square(sim.data(\"Input signal\")), label=\"Input signal squared\")\n",
      "plt.legend(loc=\"best\", fontsize='medium')\n",
      "plt.xlabel(\"Time (s)\")\n",
      "plt.xlim(0, 1)\n",
      "\n",
      "t = sim.data(model.t)\n",
      "spikes = [t[sim.data(\"A.spikes\")[:,i] > 0].flatten() for i in xrange(model.get(\"A\").n_neurons)]\n",
      "ax = plt.subplot(1,2,2)\n",
      "color_cycle = ax._get_lines.color_cycle\n",
      "colors = [next(color_cycle) for _ in xrange(model.get(\"A\").n_neurons)]\n",
      "plt.axis([0, 1, model.get(\"A\").n_neurons-0.5, -0.5])\n",
      "plt.eventplot(spikes, colors=colors)\n",
      "plt.xlabel(\"Time (s)\")\n",
      "plt.ylabel(\"Neuron\");"
     ],
     "language": "python",
     "metadata": {},
     "outputs": [],
     "prompt_number": 17
    },
    {
     "cell_type": "markdown",
     "metadata": {},
     "source": [
      "Notice that the spike trains are exactly the same. The only difference is how we're interpreting those spikes.\n",
      "\n",
      "# Principle 2: Transformation\n",
      "\n",
      "Encoding and decoding allow us to encode signals over time, and decode transformations of those signals.\n",
      "\n",
      "In the principle of transformation, we combine these two steps together in order to project transformations of encoded signals from one population of neurons to another population.\n",
      "\n",
      "Suppose we are representing a sine wave."
     ]
    },
    {
     "cell_type": "code",
     "collapsed": false,
     "input": [
      "from nengo.objects import Uniform\n",
      "\n",
      "model = nengo.Model(\"NEF summary\")\n",
      "model.make_node(\"Input signal\", output=lambda t: np.sin(np.pi*t))\n",
      "intercepts, encoders = aligned(30)\n",
      "model.make_ensemble(\"A\", nengo.LIF(30), dimensions=1, intercepts=intercepts, encoders=encoders,\n",
      "                    max_rates=nengo.objects.Uniform(80, 100))\n",
      "model.connect(\"Input signal\", \"A\")\n",
      "model.probe(\"A.spikes\")\n",
      "model.probe(\"A\", filter=0.01)"
     ],
     "language": "python",
     "metadata": {},
     "outputs": [],
     "prompt_number": 18
    },
    {
     "cell_type": "code",
     "collapsed": false,
     "input": [
      "sim = model.simulator()\n",
      "sim.run(2)\n",
      "\n",
      "plt.figure(figsize=(10,3.5))\n",
      "plt.subplot(1,2,1)\n",
      "plt.plot(sim.data(model.t), sim.data(\"A\"))\n",
      "plt.title(\"A\")\n",
      "plt.xlabel(\"Time (s)\")\n",
      "plt.xlim(0, 2)\n",
      "\n",
      "t = sim.data(model.t)\n",
      "spikes = [t[sim.data(\"A.spikes\")[:,i] > 0].flatten() for i in xrange(model.get(\"A\").n_neurons)]\n",
      "ax = plt.subplot(1,2,2)\n",
      "color_cycle = ax._get_lines.color_cycle\n",
      "colors = [next(color_cycle) for _ in xrange(model.get(\"A\").n_neurons)]\n",
      "plt.axis([0, 2, model.get(\"A\").n_neurons-0.5, -0.5])\n",
      "plt.eventplot(spikes, colors=colors)\n",
      "plt.title(\"A\")\n",
      "plt.xlabel(\"Time (s)\")\n",
      "plt.ylabel(\"Neuron\");"
     ],
     "language": "python",
     "metadata": {},
     "outputs": [],
     "prompt_number": 19
    },
    {
     "cell_type": "markdown",
     "metadata": {},
     "source": [
      "Linear transformations of that signal involve solving for the usual decoders, and scaling those decoding weights."
     ]
    },
    {
     "cell_type": "code",
     "collapsed": false,
     "input": [
      "model.make_ensemble(\"-A\", nengo.LIF(30), dimensions=1, intercepts=intercepts, encoders=encoders,\n",
      "                    max_rates=nengo.objects.Uniform(80, 100))\n",
      "model.connect(\"A\", \"-A\", function=np.negative)\n",
      "model.probe(\"-A.spikes\")\n",
      "model.probe(\"-A\", filter=0.01)"
     ],
     "language": "python",
     "metadata": {},
     "outputs": [],
     "prompt_number": 20
    },
    {
     "cell_type": "code",
     "collapsed": false,
     "input": [
      "sim = model.simulator()\n",
      "sim.run(2)\n",
      "\n",
      "plt.figure(figsize=(10,5))\n",
      "plt.subplot(2,2,1)\n",
      "plt.plot(sim.data(model.t), sim.data(\"A\"))\n",
      "plt.title(\"A\")\n",
      "plt.xticks(())\n",
      "plt.xlim(0, 2)\n",
      "\n",
      "plt.subplot(2,2,3)\n",
      "plt.plot(sim.data(model.t), sim.data(\"-A\"))\n",
      "plt.title(\"-A\")\n",
      "plt.xlabel(\"Time (s)\")\n",
      "plt.xlim(0, 2)\n",
      "\n",
      "t = sim.data(model.t)\n",
      "spikes = [t[sim.data(\"A.spikes\")[:,i] > 0].flatten() for i in xrange(model.get(\"A\").n_neurons)]\n",
      "ax = plt.subplot(2,2,2)\n",
      "color_cycle = ax._get_lines.color_cycle\n",
      "colors = [next(color_cycle) for _ in xrange(model.get(\"A\").n_neurons)]\n",
      "plt.axis([0, 2, model.get(\"A\").n_neurons-0.5, -0.5])\n",
      "plt.eventplot(spikes, colors=colors)\n",
      "plt.title(\"A\")\n",
      "plt.xticks(())\n",
      "plt.ylabel(\"Neuron\")\n",
      "\n",
      "spikes = [t[sim.data(\"-A.spikes\")[:,i] > 0].flatten() for i in xrange(model.get(\"-A\").n_neurons)]\n",
      "ax = plt.subplot(2,2,4)\n",
      "color_cycle = ax._get_lines.color_cycle\n",
      "colors = [next(color_cycle) for _ in xrange(model.get(\"-A\").n_neurons)]\n",
      "plt.axis([0, 2, model.get(\"-A\").n_neurons-0.5, -0.5]) \n",
      "plt.eventplot(spikes, colors=colors)\n",
      "plt.title(\"-A\")\n",
      "plt.xlabel(\"Time (s)\")\n",
      "plt.ylabel(\"Neuron\");"
     ],
     "language": "python",
     "metadata": {},
     "outputs": [],
     "prompt_number": 21
    },
    {
     "cell_type": "markdown",
     "metadata": {},
     "source": [
      "Nonlinear transformations involve solving for a new set of decoding weights."
     ]
    },
    {
     "cell_type": "code",
     "collapsed": false,
     "input": [
      "model.make_ensemble(\"-A^2\", nengo.LIF(30), dimensions=1,intercepts=intercepts, encoders=encoders,\n",
      "                    max_rates=nengo.objects.Uniform(80, 100))\n",
      "model.connect(\"-A\", \"-A^2\", function=np.square)\n",
      "model.probe(\"-A^2.spikes\")\n",
      "model.probe(\"-A^2\", filter=0.02)"
     ],
     "language": "python",
     "metadata": {},
     "outputs": [],
     "prompt_number": 22
    },
    {
     "cell_type": "code",
     "collapsed": false,
     "input": [
      "sim = model.simulator()\n",
      "sim.run(2)\n",
      "\n",
      "plt.figure(figsize=(10,6.5))\n",
      "plt.subplot(3,2,1)\n",
      "plt.plot(sim.data(model.t), sim.data(\"A\"))\n",
      "plt.axhline(0, color='k')\n",
      "plt.title(\"A\")\n",
      "plt.xticks(())\n",
      "plt.xlim(0, 2)\n",
      "\n",
      "plt.subplot(3,2,3)\n",
      "plt.plot(sim.data(model.t), sim.data(\"-A\"))\n",
      "plt.axhline(0, color='k')\n",
      "plt.title(\"-A\")\n",
      "plt.xticks(())\n",
      "plt.xlim(0, 2)\n",
      "\n",
      "plt.subplot(3,2,5)\n",
      "plt.plot(sim.data(model.t), sim.data(\"-A^2\"))\n",
      "plt.axhline(0, color='k')\n",
      "plt.title(\"-A^2\")\n",
      "plt.xlabel(\"Time (s)\")\n",
      "plt.xlim(0, 2)\n",
      "\n",
      "t = sim.data(model.t)\n",
      "spikes = [t[sim.data(\"A.spikes\")[:,i] > 0].flatten() for i in xrange(model.get(\"A\").n_neurons)]\n",
      "ax = plt.subplot(3,2,2)\n",
      "color_cycle = ax._get_lines.color_cycle\n",
      "colors = [next(color_cycle) for _ in xrange(model.get(\"A\").n_neurons)]\n",
      "plt.axis([0, 2, model.get(\"A\").n_neurons-0.5, -0.5])\n",
      "plt.eventplot(spikes, colors=colors)\n",
      "plt.title(\"A\")\n",
      "plt.xticks(())\n",
      "plt.ylabel(\"Neuron\")\n",
      "\n",
      "spikes = [t[sim.data(\"-A.spikes\")[:,i] > 0].flatten() for i in xrange(model.get(\"-A\").n_neurons)]\n",
      "ax = plt.subplot(3,2,4)\n",
      "color_cycle = ax._get_lines.color_cycle\n",
      "colors = [next(color_cycle) for _ in xrange(model.get(\"-A\").n_neurons)]\n",
      "plt.axis([0, 2, model.get(\"-A\").n_neurons-0.5, -0.5])\n",
      "plt.eventplot(spikes, colors=colors)\n",
      "plt.title(\"-A\")\n",
      "plt.xticks(())\n",
      "plt.ylabel(\"Neuron\")\n",
      "\n",
      "spikes = [t[sim.data(\"-A^2.spikes\")[:,i] > 0].flatten() for i in xrange(model.get(\"-A^2\").n_neurons)]\n",
      "for ix in xrange(len(spikes)):\n",
      "    if spikes[ix].shape == (0,):\n",
      "        spikes[ix] = np.array([-1])\n",
      "ax = plt.subplot(3,2,6)\n",
      "color_cycle = ax._get_lines.color_cycle\n",
      "colors = [next(color_cycle) for _ in xrange(model.get(\"-A^2\").n_neurons)]\n",
      "plt.axis([0, 2, model.get(\"-A^2\").n_neurons-0.5, -0.5])\n",
      "plt.eventplot(spikes, colors=colors)\n",
      "plt.title(\"-A^2\")\n",
      "plt.xlabel(\"Time (s)\")\n",
      "plt.ylabel(\"Neuron\");"
     ],
     "language": "python",
     "metadata": {},
     "outputs": [],
     "prompt_number": 23
    },
    {
     "cell_type": "markdown",
     "metadata": {},
     "source": [
      "# Principle 3: Dynamics\n",
      "\n",
      "So far, we've been considering the values represented by ensembles as generic \"signals.\" However, if we think of them instead as state variables in a dynamical system, then we can apply the methods of control theory to brain models.\n",
      "\n",
      "In order to get interesting dynamics, we connect populations recurrently (i.e., to themselves).\n",
      "\n",
      "Below is a simple harmoic oscillator. All it needs is a bit of input to get started."
     ]
    },
    {
     "cell_type": "code",
     "collapsed": false,
     "input": [
      "model = nengo.Model(\"NEF summary\")\n",
      "model.make_node('Input signal', output=lambda t: [1,0] if t < 0.1 else [0,0])\n",
      "model.make_ensemble('Oscillator', nengo.LIF(200), dimensions=2)\n",
      "model.connect('Input signal','Oscillator')\n",
      "model.connect('Oscillator', 'Oscillator', transform=[[1,1],[-1,1]], filter=0.1)\n",
      "model.probe('Oscillator', filter=0.02)"
     ],
     "language": "python",
     "metadata": {},
     "outputs": [],
     "prompt_number": 24
    },
    {
     "cell_type": "code",
     "collapsed": false,
     "input": [
      "sim = model.simulator()\n",
      "sim.run(3)\n",
      "\n",
      "plt.figure(figsize=(10,3.5))\n",
      "plt.subplot(1,2,1)\n",
      "plt.plot(sim.data(model.t), sim.data('Oscillator'))\n",
      "plt.ylim(-1.2, 1.2)\n",
      "plt.xlabel('Time (s)')\n",
      "\n",
      "plt.subplot(1,2,2)\n",
      "plt.plot(sim.data('Oscillator')[:,0], sim.data('Oscillator')[:,1])\n",
      "plt.grid()\n",
      "plt.axis([-1.2, 1.2, -1.2, 1.2])\n",
      "plt.xlabel('$x_1$')\n",
      "plt.ylabel('$x_2$');"
     ],
     "language": "python",
     "metadata": {},
     "outputs": [],
     "prompt_number": 25
    }
   ],
   "metadata": {}
  }
 ]
}