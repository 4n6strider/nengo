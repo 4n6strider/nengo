{
 "metadata": {
  "name": ""
 },
 "nbformat": 3,
 "nbformat_minor": 0,
 "worksheets": [
  {
   "cells": [
    {
     "cell_type": "markdown",
     "metadata": {},
     "source": [
      "# Nengo Example: Two Neurons\n",
      "\n",
      "This demo shows how to construct and manipulate a complementary pair of neurons.\n",
      "\n",
      "These are leaky integrate-and-fire (LIF) neurons. The neuron tuning properties have been selected so there is one \u2018on\u2019 and one \u2018off\u2019 neuron.\n",
      "\n",
      "One neuron will increase for positive input, and the other will decrease. This can be thought of as the simplest population that is able to give a reasonable representation of a scalar value."
     ]
    },
    {
     "cell_type": "markdown",
     "metadata": {},
     "source": [
      "## Step 1: Create the neurons "
     ]
    },
    {
     "cell_type": "code",
     "collapsed": false,
     "input": [
      "import nengo\n",
      "from nengo.objects import Uniform\n",
      "\n",
      "model = nengo.Model('Two Neurons')\n",
      "\n",
      "model.make_ensemble('Neurons', \n",
      "                    nengo.LIF(2), #\n",
      "                    dimensions=1, # Representing a scalar\n",
      "                    intercepts=Uniform(-.5, -.5), #Set the intercepts at .5\n",
      "                    max_rates=Uniform(100,100), #Set the max firing rate at 100hz\n",
      "                    encoders=[[1],[-1]]) #One 'on' and one 'off' neuron"
     ],
     "language": "python",
     "metadata": {},
     "outputs": [],
     "prompt_number": 1
    },
    {
     "cell_type": "markdown",
     "metadata": {},
     "source": [
      "## Step 2: Create input for the model\n",
      "\n",
      "Create an input node generating a sine wave."
     ]
    },
    {
     "cell_type": "code",
     "collapsed": false,
     "input": [
      "import numpy as np\n",
      "\n",
      "model.make_node('Sine', output=lambda t: np.sin(8*t))"
     ],
     "language": "python",
     "metadata": {},
     "outputs": [],
     "prompt_number": 2
    },
    {
     "cell_type": "markdown",
     "metadata": {},
     "source": [
      "## Step 3: Connect the network elements"
     ]
    },
    {
     "cell_type": "code",
     "collapsed": false,
     "input": [
      "model.connect('Sine', 'Neurons', filter = 0.01)"
     ],
     "language": "python",
     "metadata": {},
     "outputs": [],
     "prompt_number": 3
    },
    {
     "cell_type": "markdown",
     "metadata": {},
     "source": [
      "## Step 4: Probe outputs\n",
      "\n",
      "Anything that is probed will collect the data it produces over time, allowing us to analyze and visualize it later."
     ]
    },
    {
     "cell_type": "code",
     "collapsed": false,
     "input": [
      "model.probe('Sine') # The original input\n",
      "model.probe('Neurons.spikes') # Raw spikes from each neuron\n",
      "model.probe('Neurons.voltages') # Subthreshold soma voltages of the neurons\n",
      "model.probe('Neurons', filter = 0.01) # Spikes filtered by a 10ms post-synaptic filter"
     ],
     "language": "python",
     "metadata": {},
     "outputs": [],
     "prompt_number": 4
    },
    {
     "cell_type": "markdown",
     "metadata": {},
     "source": [
      "## Step 5: Run the model"
     ]
    },
    {
     "cell_type": "code",
     "collapsed": false,
     "input": [
      "sim = model.simulator() #Create a simulator\n",
      "sim.run(1) # Run it for 5 seconds"
     ],
     "language": "python",
     "metadata": {},
     "outputs": [],
     "prompt_number": 5
    },
    {
     "cell_type": "markdown",
     "metadata": {},
     "source": [
      "## Step 6: Plot the results"
     ]
    },
    {
     "cell_type": "code",
     "collapsed": false,
     "input": [
      "%matplotlib inline\n",
      "import matplotlib.pyplot as plt\n",
      "# Plot the decoded output of the ensemble\n",
      "t = sim.data(model.t) #Get the time steps\n",
      "plt.plot(t, sim.data('Neurons'))\n",
      "plt.plot(t, sim.data('Sine'))\n",
      "\n",
      "\n",
      "# Plot the spiking output of the ensemble\n",
      "plt.figure()\n",
      "data=sim.data('Neurons.spikes')\n",
      "plt.plot(t[data[:,0]>0],np.ones_like(np.where(data[:,0]>0)).T+1,'r,', label=\"On neuron\")\n",
      "plt.plot(t[data[:,1]>0],np.ones_like(np.where(data[:,1]>0)).T,'k,', label=\"Off neuron\")\n",
      "plt.axis([0,1,0,2.5])\n",
      "plt.legend()\n",
      "\n",
      "# Plot the soma voltages of the neurons\n",
      "plt.plot(t, sim.data('Neurons.voltages'))\n"
     ],
     "language": "python",
     "metadata": {},
     "outputs": []
    },
    {
     "cell_type": "markdown",
     "metadata": {},
     "source": [
      "The top graph shows that the input signal in green and the filtered output spikes from the two neurons population in blue.  The spikes (that are filtered) from the 'on' and 'off' neurons are shown in the bottom graph."
     ]
    }
   ],
   "metadata": {}
  }
 ]
}