{
 "metadata": {
  "name": "",
  "signature": "sha256:faf5554fae8fe53b74ab489e73d07bd13eb5d41e7d4e70e99378705f3c70d786"
 },
 "nbformat": 3,
 "nbformat_minor": 0,
 "worksheets": [
  {
   "cells": [
    {
     "cell_type": "markdown",
     "metadata": {},
     "source": [
      "# Nengo example: Convolution network\n",
      "\n",
      "This demo shows the usage of the convolution network to bind two Semantic Pointers."
     ]
    },
    {
     "cell_type": "code",
     "collapsed": false,
     "input": [
      "import nengo\n",
      "from nengo.spa import Vocabulary"
     ],
     "language": "python",
     "metadata": {},
     "outputs": []
    },
    {
     "cell_type": "markdown",
     "metadata": {},
     "source": [
      "## Step 1: Create the model"
     ]
    },
    {
     "cell_type": "code",
     "collapsed": false,
     "input": [
      "# Number of dimensions for the Semantic Pointers\n",
      "dimensions = 32\n",
      "\n",
      "vocab = Vocabulary(dimensions=dimensions)\n",
      "vocab.parse('A + B');"
     ],
     "language": "python",
     "metadata": {},
     "outputs": []
    },
    {
     "cell_type": "code",
     "collapsed": false,
     "input": [
      "model = nengo.Network()\n",
      "with model:\n",
      "    cconv = nengo.networks.CircularConvolution(200, dimensions=dimensions)\n",
      "    nengo.Connection(nengo.Node(output=vocab['A'].v), cconv.A)\n",
      "    nengo.Connection(nengo.Node(output=vocab['B'].v), cconv.B)"
     ],
     "language": "python",
     "metadata": {},
     "outputs": []
    },
    {
     "cell_type": "markdown",
     "metadata": {},
     "source": [
      "## Step 2: Probe the output"
     ]
    },
    {
     "cell_type": "code",
     "collapsed": false,
     "input": [
      "with model:\n",
      "    out = nengo.Probe(cconv.output, synapse=0.03)"
     ],
     "language": "python",
     "metadata": {},
     "outputs": []
    },
    {
     "cell_type": "markdown",
     "metadata": {},
     "source": [
      "## Step 3: Run the model"
     ]
    },
    {
     "cell_type": "code",
     "collapsed": false,
     "input": [
      "sim = nengo.Simulator(model)\n",
      "sim.run(1.)"
     ],
     "language": "python",
     "metadata": {},
     "outputs": []
    },
    {
     "cell_type": "markdown",
     "metadata": {},
     "source": [
      "## Step 4: Plet the results"
     ]
    },
    {
     "cell_type": "code",
     "collapsed": false,
     "input": [
      "import matplotlib.pyplot as plt\n",
      "%matplotlib inline\n",
      "\n",
      "plt.plot(sim.trange(), vocab.parse('A * B').dot(sim.data[out].T))\n",
      "plt.ylabel(\"A * B\")\n",
      "plt.xlabel(\"t [s]\")"
     ],
     "language": "python",
     "metadata": {},
     "outputs": []
    }
   ],
   "metadata": {}
  }
 ]
}
