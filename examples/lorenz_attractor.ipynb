{
 "metadata": {
  "name": ""
 },
 "nbformat": 3,
 "nbformat_minor": 0,
 "worksheets": [
  {
   "cells": [
    {
     "cell_type": "markdown",
     "metadata": {},
     "source": [
      "## The Lorenz chaotic attractor\n",
      "\n",
      "This example shows the construction of a classic chaotic dynamical system: the Lorenz \"butterfly\" attractor.  The equations are:\n",
      "        \n",
      "$$\n",
      "\\dot{x}_0 = \\sigma(x_1 - x_0) \\\\\\\n",
      "\\dot{x}_1 = - x_0 x_2 - x_1  \\\\\\\n",
      "\\dot{x}_2 = x_0 x_1 - \\beta x_0 - (\\beta +1)\\rho\n",
      "$$\n",
      "\n",
      "TODO: how is this based on the standard form of the equations (http://en.wikipedia.org/wiki/Lorenz_system )?"
     ]
    },
    {
     "cell_type": "code",
     "collapsed": false,
     "input": [
      "tau = 0.1\n",
      "sigma = 10\n",
      "beta = 8.0/3\n",
      "rho = 28\n",
      "speed = 0.5\n",
      "\n",
      "import nengo\n",
      "\n",
      "model = nengo.Model('Lorentz attractor')\n",
      "model.make_ensemble('state', nengo.LIF(500), 3, radius=60, seed=8)\n",
      "\n",
      "def feedback(x):\n",
      "    dx0 = -sigma * x[0] + sigma * x[1]\n",
      "    dx1 = -x[0] * x[2] - x[1]\n",
      "    dx2 = x[0] * x[1] - beta * x[2]\n",
      "    \n",
      "    return [dx0 * tau * speed + x[0], \n",
      "            dx1 * tau * speed + x[1], \n",
      "            dx2 * tau * speed + x[2]]\n",
      "    \n",
      "model.connect('state', 'state', function=feedback, filter=tau)\n",
      "\n",
      "model.make_node('control', [28])\n",
      "\n",
      "# TODO: shouldn't this be -(c+1)*tau*speed ????\n",
      "model.connect('control', 'state', transform=[[0], [0], [-(c+1)*tau]])  \n",
      "\n",
      "model.probe('state', filter=0.03)\n",
      "\n",
      "sim = model.simulator()\n",
      "sim.run(20)"
     ],
     "language": "python",
     "metadata": {},
     "outputs": [],
     "prompt_number": 63
    },
    {
     "cell_type": "code",
     "collapsed": false,
     "input": [
      "import matplotlib.pyplot as plt\n",
      "from mpl_toolkits.mplot3d import Axes3D\n",
      "\n",
      "fig = plt.figure()\n",
      "ax = fig.add_subplot(111, projection='3d')\n",
      "ax.plot(sim.data('state')[:,0],sim.data('state')[:,1],sim.data('state')[:,2]) \n",
      "\n",
      "t = sim.data(model.t)\n",
      "\n",
      "plt.figure()\n",
      "plt.plot(t, sim.data('state'))\n",
      "\n"
     ],
     "language": "python",
     "metadata": {},
     "outputs": [],
     "prompt_number": 64
    },
    {
     "cell_type": "code",
     "collapsed": false,
     "input": [],
     "language": "python",
     "metadata": {},
     "outputs": []
    }
   ],
   "metadata": {}
  }
 ]
}