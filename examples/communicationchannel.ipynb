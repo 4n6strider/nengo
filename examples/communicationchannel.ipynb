{
 "metadata": {
  "name": ""
 },
 "nbformat": 3,
 "nbformat_minor": 0,
 "worksheets": [
  {
   "cells": [
    {
     "cell_type": "markdown",
     "metadata": {},
     "source": [
      "# Communication Channel"
     ]
    },
    {
     "cell_type": "markdown",
     "metadata": {},
     "source": [
      "This example demonstrates how to create a connections from one neuronal ensemble to another that behaves like a communication channel (that is, it transmits information without changing it). \n",
      "\n",
      "Network diagram:\n",
      "\n",
      "      [Input] ---> (A) ---> (B)\n",
      "\n",
      "An abstract input signal is fed into a first neuronal ensemble $A$, which then passes it on to another ensemble $B$. The result is that spiking activity in ensemble $B$ encodes the value from Input.  "
     ]
    },
    {
     "cell_type": "code",
     "collapsed": false,
     "input": [
      "#some imports before we get started \n",
      "%matplotlib inline\n",
      "import nengo\n",
      "import numpy as np\n",
      "import matplotlib.pyplot as plt"
     ],
     "language": "python",
     "metadata": {},
     "outputs": [],
     "prompt_number": 12
    },
    {
     "cell_type": "markdown",
     "metadata": {},
     "source": [
      "##Step 1: Create the Network"
     ]
    },
    {
     "cell_type": "code",
     "collapsed": false,
     "input": [
      "# Create a 'model' object to which we can add ensembles, connections, etc.  \n",
      "model = nengo.Model(\"Communications Channel\")\n",
      "\n",
      "# Create the model inputs\n",
      "model.make_node(\"Input\", output=np.sin)    # Create an abstract input that oscillates as sin(t) \n",
      "\n",
      "# Create the neuronal ensembles\n",
      "model.make_ensemble(\"A\", nengo.LIF(100), 1) # Make a population with 100 leaky-integrate-and-fire neurons, 1 dimension\n",
      "model.make_ensemble(\"B\", nengo.LIF(100), 1) # Make another population with 100 leaky-integrate-and-fire neurons, 1 dimension\n",
      "\n",
      "# Create the connections within the model\n",
      "model.connect(\"Input\", \"A\")                 # Connect the input to the first neuronal ensemble\n",
      "model.connect(\"A\", \"B\")                     # Connect the first neuronal ensemble to the second  \n",
      "                                            #   (this is the communication channel)\n",
      "\n",
      "# Build the model\n",
      "model.probe(\"Input\")\n",
      "model.probe(\"A\", filter=.01)\n",
      "model.probe(\"B\", filter=.01)\n",
      "\n",
      "# Run the model\n",
      "sim = model.simulator()\n",
      "sim.run(1)                            # Run the model for 1 second\n",
      "\n"
     ],
     "language": "python",
     "metadata": {},
     "outputs": [],
     "prompt_number": 10
    },
    {
     "cell_type": "code",
     "collapsed": false,
     "input": [
      "plt.figure(figsize=(9,3))\n",
      "plt.subplot(1,3,1)\n",
      "plt.plot(sim.data(\"Input\"))\n",
      "plt.title(\"Input\")\n",
      "plt.subplot(1,3,2)\n",
      "plt.plot(sim.data(\"A\"))\n",
      "plt.title(\"A\")\n",
      "plt.subplot(1,3,3)\n",
      "plt.plot(sim.data(\"B\"))\n",
      "plt.title(\"B\")"
     ],
     "language": "python",
     "metadata": {},
     "outputs": [],
     "prompt_number": 11
    }
   ],
   "metadata": {}
  }
 ]
}