{
 "metadata": {
  "name": "",
  "signature": "sha256:4058f1f793894edd049f949d3808b5ada06b2b3fe4b93868624807a8fbdd7e5a"
 },
 "nbformat": 3,
 "nbformat_minor": 0,
 "worksheets": [
  {
   "cells": [
    {
     "cell_type": "markdown",
     "metadata": {},
     "source": [
      "# Delaying a connection with a node\n",
      "\n",
      "Nodes allow for all sorts of advanced behavior that is typically done by modifying of extending the code of a neural simulator. In Nengo, the `Node` object allows for custom code to run.\n",
      "\n",
      "In this example, we will implement an `n`-timestep delayed connection by using a node."
     ]
    },
    {
     "cell_type": "code",
     "collapsed": false,
     "input": [
      "import numpy as np\n",
      "import matplotlib.pyplot as plt\n",
      "%matplotlib inline\n",
      "\n",
      "import nengo\n",
      "from nengo.processes import WhiteNoise"
     ],
     "language": "python",
     "metadata": {},
     "outputs": []
    },
    {
     "cell_type": "code",
     "collapsed": false,
     "input": [
      "model = nengo.Network(label=\"Delayed connection\")\n",
      "with model:\n",
      "    # We'll use white noise as input\n",
      "    inp = nengo.Node(WhiteNoise(2, high=5).f())\n",
      "    A = nengo.Ensemble(40, dimensions=1)\n",
      "    nengo.Connection(inp, A)\n",
      "\n",
      "\n",
      "@nengo.node.has_state\n",
      "class Delay(object):\n",
      "    def __init__(self, dimensions, timesteps=50):\n",
      "        self.history = np.zeros((timesteps, dimensions))\n",
      "    def __call__(self, t, x):\n",
      "        self.history = np.roll(self.history, -1)\n",
      "        self.history[-1] = x\n",
      "        return self.history[0]\n",
      "\n",
      "dt = 0.001\n",
      "delay = Delay(1, timesteps=int(0.2 / 0.001))\n",
      "\n",
      "with model:\n",
      "    delay1node = nengo.Node(delay, size_in=1, size_out=1)\n",
      "    nengo.Connection(A, delay1node)\n",
      "\n",
      "    # Send the delayed output through an ensemble\n",
      "    B = nengo.Ensemble(40, dimensions=1)\n",
      "    nengo.Connection(delay1node, B)\n",
      "    \n",
      "    # Send that through another delay\n",
      "    delay2node = nengo.Node(delay, size_in=1, size_out=1)\n",
      "    nengo.Connection(B, delay2node)\n",
      "\n",
      "    # Probe the input at the delayed output\n",
      "    A_probe = nengo.Probe(A, synapse=0.01)\n",
      "    B_probe = nengo.Probe(B, synapse=0.01)\n",
      "    C_probe = nengo.Probe(delay2node, synapse=0.01)"
     ],
     "language": "python",
     "metadata": {},
     "outputs": []
    },
    {
     "cell_type": "code",
     "collapsed": false,
     "input": [
      "def plot(sim, title):\n",
      "    plt.figure()\n",
      "    plt.subplot(3, 1, 1)\n",
      "    plt.title(title)\n",
      "    plt.plot(sim.trange(), sim.data[A_probe], lw=2)\n",
      "    plt.ylabel(\"Input\")\n",
      "    plt.subplot(3, 1, 2)\n",
      "    plt.plot(sim.trange(), sim.data[B_probe], lw=2)\n",
      "    plt.axvline(0.2, c='k')\n",
      "    plt.ylabel(\"Delayed once\")\n",
      "    plt.subplot(3, 1, 3)\n",
      "    plt.plot(sim.trange(), sim.data[C_probe], lw=2)\n",
      "    plt.axvline(0.4, c='k')\n",
      "    plt.ylabel(\"Delayed twice\")\n",
      "    plt.tight_layout()\n",
      "\n",
      "sim1 = nengo.Simulator(model)\n",
      "sim2 = nengo.Simulator(model)\n",
      "\n",
      "sim1.run(2.0)\n",
      "sim1.reset()\n",
      "\n",
      "sim1.run(1.0)\n",
      "sim2.run(0.5)\n",
      "sim1.run(1.0)\n",
      "sim2.run(1.5)\n",
      "\n",
      "plot(sim1, 'Sim 1')\n",
      "plot(sim2, 'Sim 2')"
     ],
     "language": "python",
     "metadata": {},
     "outputs": []
    },
    {
     "cell_type": "code",
     "collapsed": false,
     "input": [
      "# Plot the results\n",
      "plt.subplot(2, 1, 1)\n",
      "plt.plot(sim.trange(), sim.data[A_probe], lw=2)\n",
      "plt.title(\"Input\")\n",
      "plt.subplot(2, 1, 2)\n",
      "plt.plot(sim.trange(), sim.data[B_probe], lw=2)\n",
      "plt.axvline(0.2, c='k')\n",
      "plt.title(\"Delayed output\")\n",
      "plt.tight_layout();"
     ],
     "language": "python",
     "metadata": {},
     "outputs": []
    }
   ],
   "metadata": {}
  }
 ]
}
