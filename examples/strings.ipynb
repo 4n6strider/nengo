{
 "metadata": {
  "name": "",
  "signature": "sha256:a694cee1ad52affd33824c996ea09de45501728d410bcb5d141bffb810b829e0"
 },
 "nbformat": 3,
 "nbformat_minor": 0,
 "worksheets": [
  {
   "cells": [
    {
     "cell_type": "markdown",
     "metadata": {},
     "source": [
      "# String representations\n",
      "\n",
      "This should be an exhaustive list\n",
      "of the objects that can be created with Nengo,\n",
      "and their string representations."
     ]
    },
    {
     "cell_type": "markdown",
     "metadata": {},
     "source": [
      "## Core objects"
     ]
    },
    {
     "cell_type": "code",
     "collapsed": false,
     "input": [
      "import numpy as np\n",
      "import nengo\n",
      "\n",
      "with nengo.Network() as net1:\n",
      "\n",
      "    a = nengo.Ensemble(100, 2)\n",
      "    with nengo.Network(label=\"net2\") as net2:\n",
      "        b = nengo.Ensemble(100, 2, label=\"b\")\n",
      "\n",
      "    ap = nengo.Probe(a)\n",
      "    bp = nengo.Probe(b)\n",
      "\n",
      "    c1 = nengo.Connection(a, b)\n",
      "    c2 = nengo.Connection(a, b, function=np.square)\n",
      "\n",
      "    n1 = nengo.Node(output=np.sin)\n",
      "    n2 = nengo.Node(output=np.cos, label=\"n2\")\n",
      "\n",
      "print(\"  str(obj)\")\n",
      "print(\"============\")\n",
      "print(\"--- Network\")\n",
      "print(\"    %s\" % net1)\n",
      "print(\"    %s\" % net2)\n",
      "print(\"--- Ensemble\")\n",
      "print(\"    %s\" % a)\n",
      "print(\"    %s\" % b)\n",
      "print(\"--- Probe\")\n",
      "print(\"    %s\" % ap)\n",
      "print(\"    %s\" % bp)\n",
      "print(\"--- Connection\")\n",
      "print(\"    %s\" % c1)\n",
      "print(\"    %s\" % c2)\n",
      "print(\"--- Node\")\n",
      "print(\"    %s\" % n1)\n",
      "print(\"    %s\" % n2)\n",
      "print(\"--- Neurons\")\n",
      "print(\"    %s\" % a.neurons)\n",
      "print(\"--- ObjView\")\n",
      "print(\"    %s\" % b[:1])\n",
      "print(\"\")\n",
      "\n",
      "print(\"  repr(obj)  \")\n",
      "print(\"=============\")\n",
      "print(\"--- Network\")\n",
      "print(\"    %r\" % net1)\n",
      "print(\"    %r\" % net2)\n",
      "print(\"--- Ensemble\")\n",
      "print(\"    %r\" % a)\n",
      "print(\"    %r\" % b)\n",
      "print(\"--- Probe\")\n",
      "print(\"    %r\" % ap)\n",
      "print(\"    %r\" % bp)\n",
      "print(\"--- Connection\")\n",
      "print(\"    %r\" % c1)\n",
      "print(\"    %r\" % c2)\n",
      "print(\"--- Node\")\n",
      "print(\"    %r\" % n1)\n",
      "print(\"    %r\" % n2)\n",
      "print(\"--- Neurons\")\n",
      "print(\"    %r\" % a.neurons)\n",
      "print(\"--- ObjView\")\n",
      "print(\"    %r\" % b[:1])"
     ],
     "language": "python",
     "metadata": {},
     "outputs": []
    },
    {
     "cell_type": "markdown",
     "metadata": {},
     "source": [
      "## Neuron types"
     ]
    },
    {
     "cell_type": "code",
     "collapsed": false,
     "input": [
      "import nengo\n",
      "\n",
      "print(nengo.Direct())\n",
      "print(nengo.RectifiedLinear())\n",
      "print(nengo.Sigmoid())\n",
      "print(nengo.Sigmoid(tau_ref=0.001))\n",
      "print(nengo.LIFRate())\n",
      "print(nengo.LIFRate(tau_rc=0.01, tau_ref=0))\n",
      "print(nengo.LIF())\n",
      "print(nengo.LIF(tau_rc=0.01, tau_ref=0))\n",
      "print(nengo.AdaptiveLIFRate())\n",
      "print(nengo.AdaptiveLIFRate(tau_rc=0.01, tau_n=0.5, inc_n=0.02))\n",
      "print(nengo.AdaptiveLIF())\n",
      "print(nengo.AdaptiveLIF(tau_rc=0.01, tau_n=0.5, inc_n=0.02))\n",
      "print(nengo.Izhikevich())\n",
      "print(nengo.Izhikevich(tau_recovery=0.01, coupling=0.5,reset_voltage=-60, reset_recovery=6))"
     ],
     "language": "python",
     "metadata": {},
     "outputs": []
    }
   ],
   "metadata": {}
  }
 ]
}