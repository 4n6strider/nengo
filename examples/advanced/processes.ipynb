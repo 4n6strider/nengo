{
 "metadata": {
  "name": ""
 },
 "nbformat": 3,
 "nbformat_minor": 0,
 "worksheets": [
  {
   "cells": [
    {
     "cell_type": "heading",
     "level": 1,
     "metadata": {},
     "source": [
      "Processes and how to use them"
     ]
    },
    {
     "cell_type": "markdown",
     "metadata": {},
     "source": [
      "Processes in Nengo can be used to describe general functions or dynamical systems, including those with randomness. They can be useful if you want a ``Node`` output that has a state (like a dynamical system), and they're also used for things like injecting noise into Ensembles so that you can not only have \"white\" noise that samples from a distribution, but can also have \"colored\" noise where subsequent samples are correlated with past samples.\n",
      "\n",
      "This notebook will first present the basic process interface, then demonstrate some of the built-in Nengo processes and how they can be used in your code. It will also describe how to create your own custom process."
     ]
    },
    {
     "cell_type": "code",
     "collapsed": false,
     "input": [
      "import numpy as np\n",
      "\n",
      "import matplotlib.pyplot as plt\n",
      "%matplotlib inline\n",
      "\n",
      "import nengo\n",
      "%load_ext nengo.ipynb"
     ],
     "language": "python",
     "metadata": {},
     "outputs": []
    },
    {
     "cell_type": "heading",
     "level": 2,
     "metadata": {},
     "source": [
      "Interface"
     ]
    },
    {
     "cell_type": "markdown",
     "metadata": {},
     "source": [
      "We will begin by looking at how to run an existing process instance.\n",
      "\n",
      "The key functions for running processes are ``run``, ``run_steps``, and ``apply``. The first two are for running without an input, and the third is for applying the process to an input.\n",
      "\n",
      "There are also two helper functions, ``trange`` and ``ntrange``, which return the time points corresponding to a process output, given either a length of time or a number of steps, respectively."
     ]
    },
    {
     "cell_type": "markdown",
     "metadata": {},
     "source": [
      "### ``run``: running a process for a length of time\n",
      "\n",
      "The ``run`` function runs a process for a given length of time, without any input. Many of the random processes in ``nengo.processes`` will be run this way, since they do not require an input signal."
     ]
    },
    {
     "cell_type": "code",
     "collapsed": false,
     "input": [
      "# Create a process (details on the FilteredNoise process below)\n",
      "process = nengo.processes.FilteredNoise(\n",
      "    synapse=nengo.synapses.Alpha(0.1), seed=0)\n",
      "\n",
      "# run the process for two seconds\n",
      "y = process.run(2.0)\n",
      "\n",
      "# get a corresponding two-second time range\n",
      "t = process.trange(2.0)\n",
      "\n",
      "plt.plot(t, y);\n",
      "plt.xlabel('time [s]');\n",
      "plt.ylabel('process output');"
     ],
     "language": "python",
     "metadata": {},
     "outputs": []
    },
    {
     "cell_type": "markdown",
     "metadata": {},
     "source": [
      "### ``run_steps``: running a process for a number of steps\n",
      "\n",
      "To run the process for a number of steps, use the ``run_steps`` function. The length of the generated signal will depend on the process's ``default_dt``."
     ]
    },
    {
     "cell_type": "code",
     "collapsed": false,
     "input": [
      "process = nengo.processes.FilteredNoise(\n",
      "    synapse=nengo.synapses.Alpha(0.1), seed=0)\n",
      "\n",
      "# run the process for 1000 steps\n",
      "y = process.run_steps(1000)\n",
      "\n",
      "# get a corresponding 500-step time range\n",
      "t = process.ntrange(1000)\n",
      "\n",
      "plt.plot(t, y);\n",
      "plt.xlabel('time [s]');\n",
      "plt.ylabel('process output');"
     ],
     "language": "python",
     "metadata": {},
     "outputs": []
    },
    {
     "cell_type": "markdown",
     "metadata": {},
     "source": [
      "### ``apply``: running a process with an input\n",
      "\n",
      "To run a process with an input, use the ``apply`` function."
     ]
    },
    {
     "cell_type": "code",
     "collapsed": false,
     "input": [
      "process = nengo.synapses.Lowpass(0.2)\n",
      "\n",
      "t = process.trange(5)\n",
      "x = np.minimum(t % 2, 2 - (t % 2))  # sawtooth wave\n",
      "y = process.apply(x)  # general to all Processes\n",
      "z = process.filtfilt(x)  # specific to Synapses\n",
      "\n",
      "plt.plot(t, x, label='input');\n",
      "plt.plot(t, y, label='output');\n",
      "plt.plot(t, z, label='filtfilt');\n",
      "plt.xlabel('time [s]');\n",
      "plt.ylabel('signal');\n",
      "plt.legend();"
     ],
     "language": "python",
     "metadata": {},
     "outputs": []
    },
    {
     "cell_type": "markdown",
     "metadata": {},
     "source": [
      "Note that Synapses are a special kind of process, and have the additional functions ``filt`` and ``filtfilt``. ``filt`` works mostly the same as ``apply``, but with some additional functionality such as the ability to filter along any axis. ``filtfilt`` provides zero-phase filtering."
     ]
    },
    {
     "cell_type": "markdown",
     "metadata": {},
     "source": [
      "### Changing the time-step (``dt`` and ``default_dt``)\n",
      "\n",
      "To run a process with a different time-step, you can either pass the new time step (``dt``) when calling the functions, or change the ``default_dt`` property of the process."
     ]
    },
    {
     "cell_type": "code",
     "collapsed": false,
     "input": [
      "process = nengo.processes.FilteredNoise(\n",
      "    synapse=nengo.synapses.Alpha(0.1), seed=0)\n",
      "y1 = process.run(2.0, dt=0.05)\n",
      "t1 = process.trange(2.0, dt=0.05)\n",
      "\n",
      "process = nengo.processes.FilteredNoise(\n",
      "    synapse=nengo.synapses.Alpha(0.1), default_dt=0.1, seed=0)\n",
      "y2 = process.run(2.0)\n",
      "t2 = process.trange(2.0)\n",
      "\n",
      "plt.plot(t1, y1, label='dt = %s' % 0.05);\n",
      "plt.plot(t2, y2, label='dt = %s' % 0.1);\n",
      "plt.xlabel('time [s]');\n",
      "plt.ylabel('output');"
     ],
     "language": "python",
     "metadata": {},
     "outputs": []
    },
    {
     "cell_type": "heading",
     "level": 2,
     "metadata": {},
     "source": [
      "``WhiteSignal``"
     ]
    },
    {
     "cell_type": "markdown",
     "metadata": {},
     "source": [
      "The ``WhiteSignal`` process is used to generate band-limited white noise, with only frequencies below a given cutoff frequency. "
     ]
    },
    {
     "cell_type": "code",
     "collapsed": false,
     "input": [
      "with nengo.Network() as model:\n",
      "    a = nengo.Node(nengo.processes.WhiteSignal(1.0, high=5, seed=0))\n",
      "    b = nengo.Node(nengo.processes.WhiteSignal(1.0, high=10, seed=0))\n",
      "    c = nengo.Node(nengo.processes.WhiteSignal(1.0, high=5, rms=0.3, seed=0))\n",
      "    d = nengo.Node(nengo.processes.WhiteSignal(0.5, high=5, seed=0))\n",
      "    ap = nengo.Probe(a)\n",
      "    bp = nengo.Probe(b)\n",
      "    cp = nengo.Probe(c)\n",
      "    dp = nengo.Probe(d)\n",
      "    \n",
      "with nengo.Simulator(model) as sim:\n",
      "    sim.run(1.0)\n",
      "    \n",
      "plt.plot(sim.trange(), sim.data[ap], label='5 Hz cutoff')\n",
      "plt.plot(sim.trange(), sim.data[bp], label='10 Hz cutoff')\n",
      "plt.plot(sim.trange(), sim.data[cp], label='5 Hz cutoff, 0.3 RMS amplitude')\n",
      "plt.plot(sim.trange(), sim.data[dp], label='5 Hz cutoff, 0.5 s period')\n",
      "plt.xlabel(\"time [s]\")\n",
      "plt.legend(loc=2);"
     ],
     "language": "python",
     "metadata": {},
     "outputs": []
    },
    {
     "cell_type": "markdown",
     "metadata": {},
     "source": [
      "Note that the 10 Hz signal (green) has similar low frequency characteristics to the 5 Hz signal (blue), but with additional higher-frequency components. The 0.3 RMS amplitude 5 Hz signal (red) is the same as the original 5 Hz signal (blue), but scaled down (the default RMS amplitude is 0.5). Finally, the signal with a 0.5 s period (instead of a 1 s period like the others) is completely different, because chaning the period changes the spacing of the random frequency components and thus creates a completely different signal. Note how the signal with the 0.5 s period repeats itself; for example, the value at $t = 0$ is the same as the value at $t = 0.5$, and the value at $t = 0.4$ is the same as the value at $t = 0.9$."
     ]
    },
    {
     "cell_type": "markdown",
     "metadata": {},
     "source": [
      "## ``WhiteNoise``\n",
      "\n",
      "The ``WhiteNoise`` process generates white noise, with equal power across all frequencies. By default, it is scaled so that the integral process (Brownian noise) will have the same standard deviation regardless of ``dt``."
     ]
    },
    {
     "cell_type": "code",
     "collapsed": false,
     "input": [
      "process = nengo.processes.WhiteNoise(\n",
      "    dist=nengo.dists.Gaussian(0, 1))\n",
      "\n",
      "t = process.trange(0.5)\n",
      "y = process.run(0.5)\n",
      "plt.plot(t, y);"
     ],
     "language": "python",
     "metadata": {},
     "outputs": []
    },
    {
     "cell_type": "markdown",
     "metadata": {},
     "source": [
      "One use of the ``WhiteNoise`` process is to inject noise into neural populations. Here, we create two identical neurons, but add a bit of noise to one and no noise to the other. We plot the membrane voltages of both."
     ]
    },
    {
     "cell_type": "code",
     "collapsed": false,
     "input": [
      "process = nengo.processes.WhiteNoise(\n",
      "    dist=nengo.dists.Gaussian(0, 0.01), seed=1)\n",
      "\n",
      "with nengo.Network() as model:\n",
      "    ens_args = dict(encoders=[[1]], intercepts=[0.01], max_rates=[100])\n",
      "    a = nengo.Ensemble(1, 1, **ens_args)\n",
      "    b = nengo.Ensemble(1, 1, noise=process, **ens_args)\n",
      "    a_voltage = nengo.Probe(a.neurons, 'voltage')\n",
      "    b_voltage = nengo.Probe(b.neurons, 'voltage')\n",
      "    \n",
      "with nengo.Simulator(model) as sim:\n",
      "    sim.run(0.15)\n",
      "    \n",
      "plt.plot(sim.trange(), sim.data[a_voltage], label=\"deterministic\");\n",
      "plt.plot(sim.trange(), sim.data[b_voltage], label=\"noisy\");\n",
      "plt.xlabel('time [s]')\n",
      "plt.ylabel('voltage')\n",
      "plt.legend(loc=4);"
     ],
     "language": "python",
     "metadata": {},
     "outputs": []
    },
    {
     "cell_type": "markdown",
     "metadata": {},
     "source": [
      "We see that the neuron without noise (blue) approaches its firing threshold, but never quite gets there. Adding a bit of noise (green) causes the neuron to occasionally jitter above the threshold, resulting in two spikes (where the voltage suddenly drops to zero)."
     ]
    },
    {
     "cell_type": "markdown",
     "metadata": {},
     "source": [
      "## `FilteredNoise`\n",
      "\n",
      "The ``FilteredNoise`` process takes a white noise signal and passes it through a filter. Using any type of lowpass filter (e.g. ``Lowpass``, ``Alpha``) will result in a signal similar to ``WhiteSignal``, but rather than being ideally filtered (i.e. no frequency content above the cutoff), the ``FilteredNoise`` signal will have some frequency content above the cutoff, with the amount depending on the filter used. Here, we can see how an ``Alpha`` filter (a second-order lowpass filter) is much better than the ``Lowpass`` filter (a first-order lowpass filter) at removing the high-frequency content."
     ]
    },
    {
     "cell_type": "code",
     "collapsed": false,
     "input": [
      "process1 = nengo.processes.FilteredNoise(\n",
      "    dist=nengo.dists.Gaussian(0, 0.01), \n",
      "    synapse=nengo.Alpha(0.005),\n",
      "    seed=0)\n",
      "\n",
      "process2 = nengo.processes.FilteredNoise(\n",
      "    dist=nengo.dists.Gaussian(0, 0.01), \n",
      "    synapse=nengo.Lowpass(0.005),\n",
      "    seed=0)\n",
      "\n",
      "tlen = 0.5\n",
      "plt.plot(process1.trange(tlen), process1.run(tlen));\n",
      "plt.plot(process2.trange(tlen), process2.run(tlen));"
     ],
     "language": "python",
     "metadata": {},
     "outputs": []
    },
    {
     "cell_type": "markdown",
     "metadata": {},
     "source": [
      "The ``FilteredNoise`` process with an ``Alpha`` synapse (blue) has significantly lower high-frequency components than a similar process with a ``Lowpass`` synapse (green)."
     ]
    },
    {
     "cell_type": "markdown",
     "metadata": {},
     "source": [
      "## ``PresentInput``\n",
      "\n",
      "The ``PresentInput`` process is useful for presenting a series of static inputs to a network, where each input is shown for the same length of time. Once all the images have been shown, they repeat from the beginning. One application is presenting a series of images to a classification network."
     ]
    },
    {
     "cell_type": "code",
     "collapsed": false,
     "input": [
      "inputs = [[0, 0.5], [0.3, 0.2], [-0.1, -0.7], [-0.8, 0.6]]\n",
      "process = nengo.processes.PresentInput(\n",
      "    inputs, presentation_time=0.1)\n",
      "\n",
      "tlen = 0.8\n",
      "plt.plot(process.trange(tlen), process.run(tlen));\n",
      "plt.xlim([0, tlen]);\n",
      "plt.ylim([-1, 1]);"
     ],
     "language": "python",
     "metadata": {},
     "outputs": []
    },
    {
     "cell_type": "markdown",
     "metadata": {},
     "source": [
      "## Custom processes\n",
      "\n",
      "You can create custom processes by inheriting from the ``nengo.Process`` class and overloading the ``make_step`` function.\n",
      "\n",
      "First, we'll make a simple custom process that implements a two-dimensional oscillator dynamical system. The ``make_step`` function defines a ``state`` variable to store the state, and a fixed ``A`` matrix that determines how the state changes over time. One advantage to using a process over a simple function is that if we reset our simulator, ``make_step`` will be called again and the process state will be reset."
     ]
    },
    {
     "cell_type": "code",
     "collapsed": false,
     "input": [
      "class SimpleOscillator(nengo.Process):\n",
      "    def make_step(self, shape_in, shape_out, dt, rng):\n",
      "        A = np.array([[-0.1, -1.], [1., -0.1]])\n",
      "        state = np.array([1., 0.])\n",
      "        \n",
      "        # define the step function, which will be called \n",
      "        # by the node every time step\n",
      "        def step(t):\n",
      "            state[:] += dt * np.dot(A, state)\n",
      "            return state\n",
      "        \n",
      "        return step  # return the step function\n",
      "    \n",
      "with nengo.Network() as model:\n",
      "    a = nengo.Node(SimpleOscillator(), size_in=0, size_out=2)\n",
      "    a_p = nengo.Probe(a)\n",
      "    \n",
      "with nengo.Simulator(model) as sim:\n",
      "    sim.run(20.0)\n",
      "    \n",
      "plt.plot(sim.trange(), sim.data[a_p]);\n",
      "plt.xlabel('time [s]');"
     ],
     "language": "python",
     "metadata": {},
     "outputs": []
    },
    {
     "cell_type": "markdown",
     "metadata": {},
     "source": [
      "We can generalize this process to one that can implement arbitrary linear dynamical systems, given ``A`` and ``B`` matrices. We will overload the ``__init__`` function to take and store these matrices, as well as check the matrix shapes and set the default size in and out. The advantage of using the default sizes is when we then create a node using the process, or run the process using ``apply``, we do not need to specify the sizes."
     ]
    },
    {
     "cell_type": "code",
     "collapsed": false,
     "input": [
      "class LTIProcess(nengo.Process):\n",
      "    def __init__(self, A, B, **kwargs):\n",
      "        A, B = np.asarray(A), np.asarray(B)\n",
      "        \n",
      "        # check that the matrix shapes are compatible\n",
      "        assert A.ndim == 2 and A.shape[0] == A.shape[1]\n",
      "        assert B.ndim == 2 and B.shape[0] == A.shape[0]\n",
      "        \n",
      "        # store the matrices for `make_step`\n",
      "        self.A = A\n",
      "        self.B = B\n",
      "        \n",
      "        # pass the default sizes to the Process constructor\n",
      "        super(LTIProcess, self).__init__(\n",
      "            default_size_in=B.shape[1], default_size_out=A.shape[0], **kwargs)\n",
      "    \n",
      "    def make_step(self, shape_in, shape_out, dt, rng):\n",
      "        assert shape_in == (self.B.shape[1],)\n",
      "        assert shape_out == (self.A.shape[0],)\n",
      "        A, B = self.A, self.B\n",
      "        state = np.zeros(self.A.shape[0])\n",
      "        \n",
      "        def step(t, x):\n",
      "            state[:] += dt * (np.dot(A, state) + np.dot(B, x))\n",
      "            return state\n",
      "        \n",
      "        return step\n",
      "    \n",
      "# demonstrate the LTIProcess in action\n",
      "A = [[-0.1, -1], [1, -0.1]]\n",
      "B = [[10], [-10]]\n",
      "\n",
      "with nengo.Network() as model:\n",
      "    u = nengo.Node(lambda t: 1 if t < 0.1 else 0)\n",
      "    a = nengo.Node(LTIProcess(A, B))  # we don't need to specify size_in and size_out!\n",
      "    nengo.Connection(u, a)\n",
      "    a_p = nengo.Probe(a)\n",
      "    \n",
      "with nengo.Simulator(model) as sim:\n",
      "    sim.run(20.0)\n",
      "    \n",
      "plt.plot(sim.trange(), sim.data[a_p]);\n",
      "plt.xlabel('time [s]');"
     ],
     "language": "python",
     "metadata": {},
     "outputs": []
    }
   ],
   "metadata": {}
  }
 ]
}
