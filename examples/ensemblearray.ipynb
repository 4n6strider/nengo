{
 "metadata": {
  "name": ""
 },
 "nbformat": 3,
 "nbformat_minor": 0,
 "worksheets": [
  {
   "cells": [
    {
     "cell_type": "markdown",
     "metadata": {},
     "source": [
      "# Nengo Template: Ensemble Array\n",
      "\n",
      "An ensemble array is a group of ensembles that each represent a part of the overall signal.\n",
      "\n",
      "Ensemble arrays can be used like a normal ensemble. The major difference is that, in an ensemble array, the components of the overall signal are not related."
     ]
    },
    {
     "cell_type": "code",
     "collapsed": false,
     "input": [
      "### do some setup before we start\n",
      "%matplotlib inline\n",
      "import matplotlib.pyplot as plt\n",
      "import numpy as np"
     ],
     "language": "python",
     "metadata": {},
     "outputs": [],
     "prompt_number": 1
    },
    {
     "cell_type": "code",
     "collapsed": false,
     "input": [
      "import nengo\n",
      "model = nengo.Model(\"Ensemble Array Test\")\n",
      "\n",
      "input = model.make_node('input', lambda t: [np.cos(t), np.sin(t)])"
     ],
     "language": "python",
     "metadata": {},
     "outputs": [],
     "prompt_number": 2
    },
    {
     "cell_type": "code",
     "collapsed": false,
     "input": [
      "from nengo.templates.ensemble_array import EnsembleArray\n",
      "\n",
      "nperd = 100\n",
      "A = model.add(EnsembleArray('A', nengo.LIF(nperd), 2))\n",
      "B = model.make_ensemble('B', nengo.LIF(nperd * 2), 2)\n",
      "C = model.add(EnsembleArray('C', nengo.LIF(nperd), 2))\n",
      "model.connect(input, A)\n",
      "model.connect(A, B)\n",
      "model.connect(B, C)\n",
      "\n",
      "model.probe(input)\n",
      "model.probe(A, filter=0.02)\n",
      "model.probe(B, filter=0.02)\n",
      "model.probe(C, filter=0.02)\n",
      "model.run(10)"
     ],
     "language": "python",
     "metadata": {},
     "outputs": [],
     "prompt_number": 4
    },
    {
     "cell_type": "code",
     "collapsed": false,
     "input": [
      "t = model.data[model.t]\n",
      "\n",
      "plt.figure(1)\n",
      "plt.clf()\n",
      "plt.plot(t, model.data[input])\n",
      "plt.plot(t, model.data[A])\n",
      "plt.plot(t, model.data[B])\n",
      "plt.plot(t, model.data[C])"
     ],
     "language": "python",
     "metadata": {},
     "outputs": [],
     "prompt_number": 5
    }
   ],
   "metadata": {}
  }
 ]
}