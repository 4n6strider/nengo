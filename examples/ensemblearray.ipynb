{
 "metadata": {
  "name": ""
 },
 "nbformat": 3,
 "nbformat_minor": 0,
 "worksheets": [
  {
   "cells": [
    {
     "cell_type": "markdown",
     "metadata": {},
     "source": [
      "# Nengo Template: Ensemble Array\n",
      "\n",
      "An ensemble array is a group of ensembles that each represent a part of the overall signal.\n",
      "\n",
      "Ensemble arrays can be used like a normal ensemble. The major difference is that, in an ensemble array, the components of the overall signal are not related."
     ]
    },
    {
     "cell_type": "code",
     "collapsed": false,
     "input": [
      "### do some setup before we start\n",
      "%matplotlib inline\n",
      "import matplotlib.pyplot as plt\n",
      "import numpy as np"
     ],
     "language": "python",
     "metadata": {},
     "outputs": [],
     "prompt_number": 1
    },
    {
     "cell_type": "code",
     "collapsed": false,
     "input": [
      "import nengo\n",
      "from nengo.templates import EnsembleArray\n",
      "\n",
      "model = nengo.Model(\"Ensemble Array\")\n",
      "inp = model.make_node('input', lambda t: [np.cos(t), np.sin(t)])\n",
      "\n",
      "nperd = 100\n",
      "A = model.add(EnsembleArray('A', nengo.LIF(nperd * 2), 2))\n",
      "B = model.make_ensemble('B', nengo.LIF(nperd * 2), 2)\n",
      "C = model.add(EnsembleArray('C', nengo.LIF(nperd * 2), 2))\n",
      "\n",
      "model.connect(inp, A)\n",
      "model.connect(A, B)\n",
      "model.connect(B, C)\n",
      "\n",
      "model.probe(inp)\n",
      "model.probe(A, filter=0.02)\n",
      "model.probe(B, filter=0.02)\n",
      "model.probe(C, filter=0.02)"
     ],
     "language": "python",
     "metadata": {},
     "outputs": [],
     "prompt_number": 2
    },
    {
     "cell_type": "code",
     "collapsed": false,
     "input": [
      "sim = model.simulator()\n",
      "sim.run(10)"
     ],
     "language": "python",
     "metadata": {},
     "outputs": [],
     "prompt_number": 3
    },
    {
     "cell_type": "code",
     "collapsed": false,
     "input": [
      "plt.plot(sim.data(model.t), sim.data(inp))\n",
      "plt.plot(sim.data(model.t), sim.data(A))\n",
      "plt.plot(sim.data(model.t), sim.data(B))\n",
      "plt.plot(sim.data(model.t), sim.data(C))"
     ],
     "language": "python",
     "metadata": {},
     "outputs": [],
     "prompt_number": 4
    }
   ],
   "metadata": {}
  }
 ]
}