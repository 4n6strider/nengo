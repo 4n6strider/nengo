{
 "metadata": {
  "name": "",
  "signature": "sha256:1a2a5313f99be6cf22259b71a0cc26fa72749c508bd938b98981cd8ee9b96fb1"
 },
 "nbformat": 3,
 "nbformat_minor": 0,
 "worksheets": [
  {
   "cells": [
    {
     "cell_type": "code",
     "collapsed": false,
     "input": [
      "import numpy as np\n",
      "import matplotlib.pyplot as plt\n",
      "%matplotlib inline\n",
      "\n",
      "import nengo\n",
      "from nengo.utils.functions import piecewise"
     ],
     "language": "python",
     "metadata": {},
     "outputs": []
    },
    {
     "cell_type": "code",
     "collapsed": false,
     "input": [
      "n_trials = 100\n",
      "n_subjects = 100\n",
      "rng = np.random.RandomState(9)\n",
      "\n",
      "t_show = 0.1\n",
      "times = t_show * np.arange(n_trials)\n",
      "examples = nengo.dists.UniformHypersphere(surface=False).sample(n_trials, 2, rng=rng)\n",
      "\n",
      "probes = []\n",
      "with nengo.Network() as model:\n",
      "    u = nengo.Node(output=piecewise(dict(zip(times, examples))))\n",
      "    up = nengo.Probe(u)\n",
      "    \n",
      "    for i in range(n_subjects):\n",
      "        product = nengo.networks.Product(200, 1, input_magnitude=1, \n",
      "                                         net=nengo.Network(seed=99 + i))\n",
      "        nengo.Connection(u[0], product.A)\n",
      "        nengo.Connection(u[1], product.B)\n",
      "        probes.append(nengo.Probe(product.output, synapse=0.01))\n",
      "        \n",
      "dt = 0.001\n",
      "sim = nengo.Simulator(model, dt=dt)\n",
      "sim.run(t_show * n_trials)\n",
      "\n",
      "t = sim.trange()\n",
      "x = sim.data[up]\n",
      "y = x[:, 0] * x[:, 1]\n",
      "z = np.hstack([sim.data[probe] for probe in probes])\n",
      "plt.plot(t, y, '--');\n",
      "plt.plot(t, z);"
     ],
     "language": "python",
     "metadata": {},
     "outputs": []
    },
    {
     "cell_type": "code",
     "collapsed": false,
     "input": [
      "# break into blocks\n",
      "blocks = z.reshape((n_trials, t_show / dt, n_subjects))\n",
      "\n",
      "# take last 30 ms of each block\n",
      "results = blocks[:, -30:, :]\n",
      "\n",
      "# compute errors\n",
      "ref = examples[:, 0] * examples[:, 1]\n",
      "rmses = np.sqrt(((results - ref[:, None, None])**2).mean(axis=1))"
     ],
     "language": "python",
     "metadata": {},
     "outputs": []
    },
    {
     "cell_type": "code",
     "collapsed": false,
     "input": [
      "rmses_trial = rmses.mean(axis=1)\n",
      "rmses_subject = rmses.mean(axis=0)\n",
      "plt.figure(figsize=(12,4))\n",
      "plt.subplot(121)\n",
      "plt.bar(np.arange(n_trials), rmses_trial);\n",
      "plt.subplot(122)\n",
      "plt.bar(np.arange(n_subjects), rmses_subject);"
     ],
     "language": "python",
     "metadata": {},
     "outputs": []
    },
    {
     "cell_type": "code",
     "collapsed": false,
     "input": [
      "# plot product magnitude vs rmse\n",
      "plt.figure(figsize=(12, 4))\n",
      "plt.subplot(121)\n",
      "plt.scatter(np.abs(ref), rmses_trial, c='b')\n",
      "plt.subplot(122)\n",
      "plt.scatter(np.abs(ref), rmses_trial / (np.abs(ref) + 0.05), c='r')"
     ],
     "language": "python",
     "metadata": {},
     "outputs": []
    },
    {
     "cell_type": "code",
     "collapsed": false,
     "input": [
      "rmse = rmses.mean()\n",
      "print rmse"
     ],
     "language": "python",
     "metadata": {},
     "outputs": []
    },
    {
     "cell_type": "code",
     "collapsed": false,
     "input": [
      "rmses_std = rmses.std()\n",
      "trial_std = rmses_trial.std()\n",
      "subject_std = rmses_subject.std()\n",
      "print rmses_std, trial_std, subject_std"
     ],
     "language": "python",
     "metadata": {},
     "outputs": []
    },
    {
     "cell_type": "code",
     "collapsed": false,
     "input": [
      "rmses_sterr = rmses_std / np.sqrt(n_trials * n_subjects)\n",
      "trial_sterr = trial_std / np.sqrt(n_trials)\n",
      "subject_sterr = subject_std / np.sqrt(n_subjects)\n",
      "print rmses_sterr, trial_sterr, subject_sterr"
     ],
     "language": "python",
     "metadata": {},
     "outputs": []
    }
   ],
   "metadata": {}
  }
 ]
}